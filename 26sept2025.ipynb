{
  "nbformat": 4,
  "nbformat_minor": 0,
  "metadata": {
    "colab": {
      "provenance": [],
      "authorship_tag": "ABX9TyPTttE4+LTuIVYCRfEami7z",
      "include_colab_link": true
    },
    "kernelspec": {
      "name": "python3",
      "display_name": "Python 3"
    },
    "language_info": {
      "name": "python"
    }
  },
  "cells": [
    {
      "cell_type": "markdown",
      "metadata": {
        "id": "view-in-github",
        "colab_type": "text"
      },
      "source": [
        "<a href=\"https://colab.research.google.com/github/SurajPratapSingh2025/python/blob/master/26sept2025.ipynb\" target=\"_parent\"><img src=\"https://colab.research.google.com/assets/colab-badge.svg\" alt=\"Open In Colab\"/></a>"
      ]
    },
    {
      "cell_type": "code",
      "execution_count": 9,
      "metadata": {
        "colab": {
          "base_uri": "https://localhost:8080/"
        },
        "id": "ANaEyDV_w1Ud",
        "outputId": "b0f36690-0553-408e-c863-982866e1f54c"
      },
      "outputs": [
        {
          "output_type": "stream",
          "name": "stdout",
          "text": [
            "Enter a number: -10\n",
            "Your no. was not absolute so transform in absolute :  10\n",
            "Sum of n-odd natural no.:  25\n"
          ]
        }
      ],
      "source": [
        "#Take non-absoulte no. & calculate sum of odd no.\n",
        "num=int(input('Enter a number: '))\n",
        "if num > 0:\n",
        "  print('Your no. %d is already absolute'%num)\n",
        "else:\n",
        "  num=(-1)*num\n",
        "  print('Your no. was not absolute so transform in absolute : ',num)\n",
        "  s=0\n",
        "  for num in range(1,num+1):\n",
        "    if num%2!=0:\n",
        "      s=s+num\n",
        "  print('Sum of n-odd natural no.: ',s)"
      ]
    },
    {
      "cell_type": "code",
      "source": [
        "#check no. is perfect or not\n",
        "n=int(input('Enter a no.: '))\n",
        "s=0\n",
        "for i in range(1,n//2+1):\n",
        "  if n%i==0:\n",
        "    s=s+i\n",
        "if n==s:\n",
        "  print(n,' is a perfect no.')\n",
        "else:\n",
        "  print(n,' is not a perfect no.')"
      ],
      "metadata": {
        "colab": {
          "base_uri": "https://localhost:8080/"
        },
        "id": "SDP6QT_h3A6c",
        "outputId": "adf9c1ec-d78e-4e3e-a8ff-836aaef0aa33"
      },
      "execution_count": 14,
      "outputs": [
        {
          "output_type": "stream",
          "name": "stdout",
          "text": [
            "Enter a no.: 6\n",
            "6  is a perfect no.\n"
          ]
        }
      ]
    },
    {
      "cell_type": "code",
      "source": [
        "#calculate factorial while taking a non absolute no.\n",
        "n=int(input('Enter a non-absolute number: '))\n",
        "if n > 0:\n",
        "  print('Your no. %d is already absolute'%n)\n",
        "else:\n",
        "  n=(-1)*n\n",
        "  print('Your no. was not absolute so transform in absolute : ',n)\n",
        "  s=0\n",
        "  print('Factorial of %d is '%n)\n",
        "  for i in range(1,n+1):\n",
        "    if n%i==0:\n",
        "      print(i)"
      ],
      "metadata": {
        "colab": {
          "base_uri": "https://localhost:8080/"
        },
        "id": "ESsvC-ZV8Lbj",
        "outputId": "765fafbe-cfac-4eae-fd1c-bc2bfeeec100"
      },
      "execution_count": 17,
      "outputs": [
        {
          "output_type": "stream",
          "name": "stdout",
          "text": [
            "Enter a non-absolute number: -6\n",
            "Your no. was not absolute so transform in absolute :  6\n",
            "Factorial of 6 is \n",
            "1\n",
            "2\n",
            "3\n",
            "6\n"
          ]
        }
      ]
    },
    {
      "cell_type": "code",
      "source": [
        "#check no. is prime or not\n",
        "n=int(input('Enter a no.: '))\n",
        "c=0\n",
        "for i in range(1,n+1):\n",
        "  if n%i==0:\n",
        "    c=c+1\n",
        "if c==2:\n",
        "  print('%d is prime no.'%n)\n",
        "else:\n",
        "  print('%d is not prime no.'%n)"
      ],
      "metadata": {
        "colab": {
          "base_uri": "https://localhost:8080/"
        },
        "id": "AQmg5tEK_lNQ",
        "outputId": "c0206ac7-8e04-4635-e148-6c122e72bfa8"
      },
      "execution_count": 20,
      "outputs": [
        {
          "output_type": "stream",
          "name": "stdout",
          "text": [
            "Enter a no.: 11\n",
            "11 is prime no.\n"
          ]
        }
      ]
    },
    {
      "cell_type": "code",
      "source": [
        "#check no. is prime or not & then further check dual-prime or not\n",
        "n=int(input('Enter a no.: '))\n",
        "c=0\n",
        "for i in range(1,n+1):\n",
        "  if n%i==0:\n",
        "    c=c+1\n",
        "if c==2:\n",
        "  print('%d is prime no.'%n)\n",
        "  s=0\n",
        "  cnt=0\n",
        "  for i in range(1,n+1):\n",
        "    r=n%10\n",
        "    s=s+r\n",
        "    n=n//10\n",
        "  for i in range(1,s+1):\n",
        "    if s%i==0:\n",
        "      cnt=cnt+1\n",
        "  if cnt==2:\n",
        "    print('%d is dual-prime no.'%s)\n",
        "  else:\n",
        "    print('%d is not dual-prime no.'%s)\n",
        "else:\n",
        "  print('%d is not prime no.'%n)"
      ],
      "metadata": {
        "colab": {
          "base_uri": "https://localhost:8080/"
        },
        "id": "RkprC85UBgmk",
        "outputId": "9aec9a56-e303-4f62-94df-2c2d7856de71"
      },
      "execution_count": 37,
      "outputs": [
        {
          "output_type": "stream",
          "name": "stdout",
          "text": [
            "Enter a no.: 7\n",
            "7 is prime no.\n",
            "7 is dual-prime no.\n"
          ]
        }
      ]
    }
  ]
}