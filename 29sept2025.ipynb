{
  "nbformat": 4,
  "nbformat_minor": 0,
  "metadata": {
    "colab": {
      "provenance": [],
      "authorship_tag": "ABX9TyM3a1dl84M339AotlcB1odh",
      "include_colab_link": true
    },
    "kernelspec": {
      "name": "python3",
      "display_name": "Python 3"
    },
    "language_info": {
      "name": "python"
    }
  },
  "cells": [
    {
      "cell_type": "markdown",
      "metadata": {
        "id": "view-in-github",
        "colab_type": "text"
      },
      "source": [
        "<a href=\"https://colab.research.google.com/github/SurajPratapSingh2025/python/blob/master/29sept2025.ipynb\" target=\"_parent\"><img src=\"https://colab.research.google.com/assets/colab-badge.svg\" alt=\"Open In Colab\"/></a>"
      ]
    },
    {
      "cell_type": "code",
      "execution_count": null,
      "metadata": {
        "colab": {
          "base_uri": "https://localhost:8080/"
        },
        "id": "RV0pzN630lX7",
        "outputId": "f6aab3a6-11a8-4387-a8da-fc65af0e5fd0"
      },
      "outputs": [
        {
          "output_type": "stream",
          "name": "stdout",
          "text": [
            "* * * * * "
          ]
        }
      ],
      "source": [
        "#horizontal line\n",
        "for i in range(1,6):\n",
        "  print('*',end=' ')"
      ]
    },
    {
      "cell_type": "code",
      "source": [
        "#verticle line\n",
        "for i in range(1,6):\n",
        "  print('*')"
      ],
      "metadata": {
        "colab": {
          "base_uri": "https://localhost:8080/"
        },
        "id": "_6B6iQ9oLbTo",
        "outputId": "5aaa7e04-f90f-4fbc-881b-802b5868c2aa"
      },
      "execution_count": null,
      "outputs": [
        {
          "output_type": "stream",
          "name": "stdout",
          "text": [
            "*\n",
            "*\n",
            "*\n",
            "*\n",
            "*\n"
          ]
        }
      ]
    },
    {
      "cell_type": "code",
      "source": [
        "#square\n",
        "n=int(input('Enter a number: '))\n",
        "for i in range(1,n+1):\n",
        "  for j in range(1,n+1):\n",
        "    print('*',end=' ')\n",
        "  print()"
      ],
      "metadata": {
        "colab": {
          "base_uri": "https://localhost:8080/"
        },
        "id": "zClIpK7J6NQS",
        "outputId": "eb58be68-be52-4816-e8fb-32a70d10d483"
      },
      "execution_count": null,
      "outputs": [
        {
          "output_type": "stream",
          "name": "stdout",
          "text": [
            "Enter a number: 6\n",
            "* * * * * * \n",
            "* * * * * * \n",
            "* * * * * * \n",
            "* * * * * * \n",
            "* * * * * * \n",
            "* * * * * * \n"
          ]
        }
      ]
    },
    {
      "cell_type": "code",
      "source": [
        "#hollow square\n",
        "n=int(input('Enter a number: '))\n",
        "for i in range(1,n+1):\n",
        "  for j in range(1,n+1):\n",
        "    if i==1 or i==n or j==1 or j==n:\n",
        "      print('*',end=' ')\n",
        "    else:\n",
        "      print(' ',end=' ')\n",
        "  print()"
      ],
      "metadata": {
        "colab": {
          "base_uri": "https://localhost:8080/"
        },
        "id": "ipEUbViW68Mq",
        "outputId": "829672c5-4436-4124-9fd9-cd8f50ec043f"
      },
      "execution_count": null,
      "outputs": [
        {
          "output_type": "stream",
          "name": "stdout",
          "text": [
            "Enter a number: 6\n",
            "* * * * * * \n",
            "*         * \n",
            "*         * \n",
            "*         * \n",
            "*         * \n",
            "* * * * * * \n"
          ]
        }
      ]
    },
    {
      "cell_type": "code",
      "source": [
        "#daigonal of square\n",
        "n=int(input('Enter a number: '))\n",
        "for i in range(1,n+1):\n",
        "  for j in range(1,n+1):\n",
        "    if i==j or i+j==n+1:\n",
        "      print('*',end=' ')\n",
        "    else:\n",
        "      print(' ',end=' ')\n",
        "  print()"
      ],
      "metadata": {
        "colab": {
          "base_uri": "https://localhost:8080/"
        },
        "id": "Sz_s9TNyDKJX",
        "outputId": "de8797db-13dd-46bb-efb0-ad2058ebea47"
      },
      "execution_count": null,
      "outputs": [
        {
          "output_type": "stream",
          "name": "stdout",
          "text": [
            "Enter a number: 6\n",
            "*         * \n",
            "  *     *   \n",
            "    * *     \n",
            "    * *     \n",
            "  *     *   \n",
            "*         * \n"
          ]
        }
      ]
    },
    {
      "cell_type": "code",
      "source": [
        "#plus sign\n",
        "n=int(input('Enter a number: '))\n",
        "for i in range(1,n+1):\n",
        "  for j in range(1,n+1):\n",
        "    if i==n//2+1 or j==n//2+1:\n",
        "      print('*',end=' ')\n",
        "    else:\n",
        "      print(' ',end=' ')\n",
        "  print()"
      ],
      "metadata": {
        "colab": {
          "base_uri": "https://localhost:8080/"
        },
        "id": "pavXoHi7EXT5",
        "outputId": "0dec39aa-2e71-48b9-d5d6-336d861bb2ee"
      },
      "execution_count": null,
      "outputs": [
        {
          "output_type": "stream",
          "name": "stdout",
          "text": [
            "Enter a number: 5\n",
            "    *     \n",
            "    *     \n",
            "* * * * * \n",
            "    *     \n",
            "    *     \n"
          ]
        }
      ]
    },
    {
      "cell_type": "code",
      "source": [
        "#right angle triangle\n",
        "n=int(input('Enter a number: '))\n",
        "for i in range(1,n+1):\n",
        "  for j in range(1,i):\n",
        "    print('*',end=' ')\n",
        "  print()"
      ],
      "metadata": {
        "colab": {
          "base_uri": "https://localhost:8080/"
        },
        "id": "wIa0ff-c6wwB",
        "outputId": "edfd58ef-b0cc-44da-9081-a785d70c25f7"
      },
      "execution_count": null,
      "outputs": [
        {
          "output_type": "stream",
          "name": "stdout",
          "text": [
            "Enter a number: 6\n",
            "\n",
            "* \n",
            "* * \n",
            "* * * \n",
            "* * * * \n",
            "* * * * * \n"
          ]
        }
      ]
    },
    {
      "cell_type": "code",
      "source": [
        "#numberic right angle triangle\n",
        "n=int(input('Enter a number: '))\n",
        "for i in range(1,n+1):\n",
        "  for j in range(1,i):\n",
        "    print(j,end=' ')\n",
        "  print()"
      ],
      "metadata": {
        "colab": {
          "base_uri": "https://localhost:8080/"
        },
        "id": "tystJHom7aXV",
        "outputId": "109d8223-de52-4d4c-a545-04a6ae910441"
      },
      "execution_count": null,
      "outputs": [
        {
          "output_type": "stream",
          "name": "stdout",
          "text": [
            "Enter a number: 6\n",
            "\n",
            "1 \n",
            "1 2 \n",
            "1 2 3 \n",
            "1 2 3 4 \n",
            "1 2 3 4 5 \n"
          ]
        }
      ]
    },
    {
      "cell_type": "code",
      "source": [
        "#numberic right angle triangle\n",
        "n=int(input('Enter a number: '))\n",
        "a=1\n",
        "for i in range(1,n+1):\n",
        "  for j in range(1,i):\n",
        "    print(a,end=' ')\n",
        "    a+=1\n",
        "  print()"
      ],
      "metadata": {
        "colab": {
          "base_uri": "https://localhost:8080/"
        },
        "id": "GjVbpMr77u3D",
        "outputId": "8afc6a64-680a-40d3-883c-a12d046ea714"
      },
      "execution_count": null,
      "outputs": [
        {
          "output_type": "stream",
          "name": "stdout",
          "text": [
            "Enter a number: 6\n",
            "\n",
            "1 \n",
            "2 3 \n",
            "4 5 6 \n",
            "7 8 9 10 \n",
            "11 12 13 14 15 \n"
          ]
        }
      ]
    },
    {
      "cell_type": "code",
      "source": [
        "#alphabetic right angle triangle\n",
        "n=int(input('Enter a number: '))\n",
        "for i in range(1,n+1):\n",
        "  for j in range(65,65+i):\n",
        "    print(chr(j),end=' ')\n",
        "  print()"
      ],
      "metadata": {
        "colab": {
          "base_uri": "https://localhost:8080/"
        },
        "id": "4L0o4ysC8ndw",
        "outputId": "c439e6f5-a5f4-4d84-d8ea-4bcdde83f3a0"
      },
      "execution_count": null,
      "outputs": [
        {
          "output_type": "stream",
          "name": "stdout",
          "text": [
            "Enter a number: 6\n",
            "A \n",
            "A B \n",
            "A B C \n",
            "A B C D \n",
            "A B C D E \n",
            "A B C D E F \n"
          ]
        }
      ]
    },
    {
      "cell_type": "code",
      "source": [
        "#alphabetic right angle triangle\n",
        "n=int(input('Enter a number: '))\n",
        "a=65\n",
        "for i in range(1,n+1):\n",
        "  for j in range(65,65+i):\n",
        "    print(chr(a),end=' ')\n",
        "    a+=1\n",
        "  print()"
      ],
      "metadata": {
        "colab": {
          "base_uri": "https://localhost:8080/"
        },
        "id": "SPBumPwk_ZXi",
        "outputId": "8949f2c5-dabf-4139-f913-622196884cf1"
      },
      "execution_count": null,
      "outputs": [
        {
          "output_type": "stream",
          "name": "stdout",
          "text": [
            "Enter a number: 6\n",
            "A \n",
            "B C \n",
            "D E F \n",
            "G H I J \n",
            "K L M N O \n",
            "P Q R S T U \n"
          ]
        }
      ]
    },
    {
      "cell_type": "code",
      "source": [
        "#mix pattern\n",
        "n = int(input(\"Enter the number of rows: \"))\n",
        "for i in range(1, n + 1):\n",
        "  if i % 2 == 1:\n",
        "    for j in range(1, i + 1):\n",
        "      print(j, end=\"\")\n",
        "  else:\n",
        "    for j in range(i):\n",
        "      print(chr(65 + j), end=\"\")\n",
        "  print()"
      ],
      "metadata": {
        "colab": {
          "base_uri": "https://localhost:8080/"
        },
        "id": "uzuKvtr9Dof-",
        "outputId": "7a25bc92-39af-49b2-83e6-e7b8eba410cb"
      },
      "execution_count": 216,
      "outputs": [
        {
          "output_type": "stream",
          "name": "stdout",
          "text": [
            "Enter the number of rows: 4\n",
            "1\n",
            "AB\n",
            "123\n",
            "ABCD\n"
          ]
        }
      ]
    },
    {
      "cell_type": "code",
      "source": [
        "#mix pattern\n",
        "n = int(input(\"Enter the number of rows: \"))\n",
        "for i in range(1, n + 1):\n",
        "  for j in range(1, i + 1):\n",
        "    if (i + j) % 2 == 0:\n",
        "      print(\"1\", end=\" \")\n",
        "    else:\n",
        "      print(\"0\", end=\" \")\n",
        "  print()"
      ],
      "metadata": {
        "colab": {
          "base_uri": "https://localhost:8080/"
        },
        "id": "bu71HUOEEhlb",
        "outputId": "04251d29-4829-4b2b-bc86-1ec8f3e19e9d"
      },
      "execution_count": 215,
      "outputs": [
        {
          "output_type": "stream",
          "name": "stdout",
          "text": [
            "Enter the number of rows: 4\n",
            "1 \n",
            "0 1 \n",
            "1 0 1 \n",
            "0 1 0 1 \n"
          ]
        }
      ]
    },
    {
      "cell_type": "code",
      "source": [
        "#reciprocal right angle triangle\n",
        "n=int(input('Enter a number: '))\n",
        "for i in range(1,n+1):\n",
        "  for j in range(1,n+1-i):\n",
        "    print('*',end=' ')\n",
        "  print()"
      ],
      "metadata": {
        "colab": {
          "base_uri": "https://localhost:8080/"
        },
        "id": "l-s4caZ3AJds",
        "outputId": "16067820-d8d5-4cec-a3cb-e0f102e64845"
      },
      "execution_count": null,
      "outputs": [
        {
          "output_type": "stream",
          "name": "stdout",
          "text": [
            "Enter a number: 6\n",
            "* * * * * \n",
            "* * * * \n",
            "* * * \n",
            "* * \n",
            "* \n",
            "\n"
          ]
        }
      ]
    },
    {
      "cell_type": "code",
      "source": [
        "#reciprocal numberic right angle triangle\n",
        "n=int(input('Enter a number: '))\n",
        "for i in range(1,n+1):\n",
        "  for j in range(1,n+1-i):\n",
        "    print(j,end=' ')\n",
        "  print()"
      ],
      "metadata": {
        "colab": {
          "base_uri": "https://localhost:8080/"
        },
        "id": "4IPu6R9lBAPu",
        "outputId": "c2b1e518-eba5-48d2-d525-90d5bfdb8976"
      },
      "execution_count": null,
      "outputs": [
        {
          "output_type": "stream",
          "name": "stdout",
          "text": [
            "Enter a number: 6\n",
            "1 2 3 4 5 \n",
            "1 2 3 4 \n",
            "1 2 3 \n",
            "1 2 \n",
            "1 \n",
            "\n"
          ]
        }
      ]
    },
    {
      "cell_type": "code",
      "source": [
        "#reciprocal numberic right angle triangle\n",
        "n=int(input('Enter a number: '))\n",
        "a=1\n",
        "for i in range(1,n+1):\n",
        "  for j in range(1,n+1-i):\n",
        "    print(a,end=' ')\n",
        "    a+=1\n",
        "  print()"
      ],
      "metadata": {
        "colab": {
          "base_uri": "https://localhost:8080/"
        },
        "id": "suFXDjgXBcBl",
        "outputId": "6142c86b-1cdd-4676-ed20-2be21dae72cb"
      },
      "execution_count": null,
      "outputs": [
        {
          "output_type": "stream",
          "name": "stdout",
          "text": [
            "Enter a number: 4\n",
            "1 2 3 \n",
            "4 5 \n",
            "6 \n",
            "\n"
          ]
        }
      ]
    },
    {
      "cell_type": "code",
      "source": [
        "#reciprocal alphabet right angle triangle\n",
        "n=int(input('Enter a number: '))\n",
        "for i in range(1,n+1):\n",
        "  for j in range(65,65+(n+1-i)):\n",
        "    print(chr(j),end=' ')\n",
        "  print()"
      ],
      "metadata": {
        "colab": {
          "base_uri": "https://localhost:8080/"
        },
        "id": "7ZTpcdIiB6S9",
        "outputId": "f668697a-e631-41d7-b049-9d25f5d327bc"
      },
      "execution_count": null,
      "outputs": [
        {
          "output_type": "stream",
          "name": "stdout",
          "text": [
            "Enter a number: 6\n",
            "A B C D E F \n",
            "A B C D E \n",
            "A B C D \n",
            "A B C \n",
            "A B \n",
            "A \n"
          ]
        }
      ]
    },
    {
      "cell_type": "code",
      "source": [
        "#reciprocal alphabet right angle triangle\n",
        "n=int(input('Enter a number: '))\n",
        "a=65\n",
        "for i in range(1,n+1):\n",
        "  for j in range(65,65+(n+1-i)):\n",
        "    print(chr(a),end=' ')\n",
        "    a+=1\n",
        "  print()"
      ],
      "metadata": {
        "colab": {
          "base_uri": "https://localhost:8080/"
        },
        "id": "JnabFN-kC6Ku",
        "outputId": "5b4c22d6-ab5f-46ba-bb00-007f50200aa2"
      },
      "execution_count": null,
      "outputs": [
        {
          "output_type": "stream",
          "name": "stdout",
          "text": [
            "Enter a number: 6\n",
            "A B C D E F \n",
            "G H I J K \n",
            "L M N O \n",
            "P Q R \n",
            "S T \n",
            "U \n"
          ]
        }
      ]
    },
    {
      "cell_type": "code",
      "source": [
        "#mirror right angle triangle\n",
        "n=int(input('Enter a number: '))\n",
        "for i in range(1,n+1):\n",
        "  for k in range(1,n+1-i):\n",
        "    print(' ',end=' ')\n",
        "  for j in range(1,i):\n",
        "    print('*',end=' ')\n",
        "  print()"
      ],
      "metadata": {
        "colab": {
          "base_uri": "https://localhost:8080/"
        },
        "id": "aoBLsFupFs8H",
        "outputId": "0e3b20e7-3110-42a6-d90c-a89c4ae20acc"
      },
      "execution_count": null,
      "outputs": [
        {
          "output_type": "stream",
          "name": "stdout",
          "text": [
            "Enter a number: 6\n",
            "          \n",
            "        * \n",
            "      * * \n",
            "    * * * \n",
            "  * * * * \n",
            "* * * * * \n"
          ]
        }
      ]
    },
    {
      "cell_type": "code",
      "source": [
        "#mirror numeric right angle triangle\n",
        "n=int(input('Enter a number: '))\n",
        "for i in range(1,n+1):\n",
        "  for k in range(1,n+1-i):\n",
        "    print(' ',end=' ')\n",
        "  for j in range(1,i):\n",
        "    print(j,end=' ')\n",
        "  print()"
      ],
      "metadata": {
        "colab": {
          "base_uri": "https://localhost:8080/"
        },
        "id": "wkNJJnolI-3q",
        "outputId": "7a930d6e-0c10-4d52-e0dd-c124d39e2814"
      },
      "execution_count": null,
      "outputs": [
        {
          "output_type": "stream",
          "name": "stdout",
          "text": [
            "Enter a number: 6\n",
            "          \n",
            "        1 \n",
            "      1 2 \n",
            "    1 2 3 \n",
            "  1 2 3 4 \n",
            "1 2 3 4 5 \n"
          ]
        }
      ]
    },
    {
      "cell_type": "code",
      "source": [
        "#mirror numeric right angle triangle\n",
        "n=int(input('Enter a number: '))\n",
        "a=1\n",
        "for i in range(1,n+1):\n",
        "  for k in range(1,n+1-i):\n",
        "    print(' ',end=' ')\n",
        "  for j in range(1,i):\n",
        "    print(a,end=' ')\n",
        "    a+=1\n",
        "  print()"
      ],
      "metadata": {
        "colab": {
          "base_uri": "https://localhost:8080/"
        },
        "id": "b221d6xXJOZ_",
        "outputId": "87ec6e61-a541-4ece-ad1e-1fad09b529c7"
      },
      "execution_count": null,
      "outputs": [
        {
          "output_type": "stream",
          "name": "stdout",
          "text": [
            "Enter a number: 4\n",
            "      \n",
            "    1 \n",
            "  2 3 \n",
            "4 5 6 \n"
          ]
        }
      ]
    },
    {
      "cell_type": "code",
      "source": [
        "#mirror alphabet right angle triangle\n",
        "n=int(input('Enter a number: '))\n",
        "for i in range(1,n+1):\n",
        "  for k in range(1,n+1-i):\n",
        "    print(' ',end=' ')\n",
        "  for j in range(65,65+i):\n",
        "    print(chr(j),end=' ')\n",
        "  print()"
      ],
      "metadata": {
        "colab": {
          "base_uri": "https://localhost:8080/"
        },
        "id": "NAJFMoVoJfmk",
        "outputId": "5bf473c7-f12a-45a0-d27f-77256cc0e991"
      },
      "execution_count": null,
      "outputs": [
        {
          "output_type": "stream",
          "name": "stdout",
          "text": [
            "Enter a number: 6\n",
            "          A \n",
            "        A B \n",
            "      A B C \n",
            "    A B C D \n",
            "  A B C D E \n",
            "A B C D E F \n"
          ]
        }
      ]
    },
    {
      "cell_type": "code",
      "source": [
        "#mirror alphabet right angle triangle\n",
        "n=int(input('Enter a number: '))\n",
        "a=65\n",
        "for i in range(1,n+1):\n",
        "  for k in range(1,n+1-i):\n",
        "    print(' ',end=' ')\n",
        "  for j in range(65,65+i):\n",
        "    print(chr(a),end=' ')\n",
        "    a+=1\n",
        "  print()"
      ],
      "metadata": {
        "colab": {
          "base_uri": "https://localhost:8080/"
        },
        "id": "P4_fPeWoKI0V",
        "outputId": "13f29e02-187a-4a28-fc2f-0912a6295ff6"
      },
      "execution_count": null,
      "outputs": [
        {
          "output_type": "stream",
          "name": "stdout",
          "text": [
            "Enter a number: 6\n",
            "          A \n",
            "        B C \n",
            "      D E F \n",
            "    G H I J \n",
            "  K L M N O \n",
            "P Q R S T U \n"
          ]
        }
      ]
    },
    {
      "cell_type": "code",
      "source": [
        "#reciprocal mirror right angle triangle\n",
        "n=int(input('Enter a number: '))\n",
        "for i in range(1,n+1):\n",
        "  for k in range(1,i):\n",
        "    print(' ',end=' ')\n",
        "  for j in range(1,n+1-i):\n",
        "    print('*',end=' ')\n",
        "  print()"
      ],
      "metadata": {
        "colab": {
          "base_uri": "https://localhost:8080/"
        },
        "id": "HLxf-Z4SKtEZ",
        "outputId": "39c12009-01ed-4602-c062-36ac30757ad8"
      },
      "execution_count": null,
      "outputs": [
        {
          "output_type": "stream",
          "name": "stdout",
          "text": [
            "Enter a number: 6\n",
            "* * * * * \n",
            "  * * * * \n",
            "    * * * \n",
            "      * * \n",
            "        * \n",
            "          \n"
          ]
        }
      ]
    },
    {
      "cell_type": "code",
      "source": [
        "#reciprocal mirror numberic right angle triangle\n",
        "n=int(input('Enter a number: '))\n",
        "for i in range(1,n+1):\n",
        "  for k in range(1,i):\n",
        "    print(' ',end=' ')\n",
        "  for j in range(1,n+1-i):\n",
        "    print(j,end=' ')\n",
        "  print()"
      ],
      "metadata": {
        "colab": {
          "base_uri": "https://localhost:8080/"
        },
        "id": "pKTTdLD3LNBd",
        "outputId": "6b0dd248-a30d-4603-d54f-e48c38c408b7"
      },
      "execution_count": null,
      "outputs": [
        {
          "output_type": "stream",
          "name": "stdout",
          "text": [
            "Enter a number: 6\n",
            "1 2 3 4 5 \n",
            "  1 2 3 4 \n",
            "    1 2 3 \n",
            "      1 2 \n",
            "        1 \n",
            "          \n"
          ]
        }
      ]
    },
    {
      "cell_type": "code",
      "source": [
        "#reciprocal mirror numberic right angle triangle\n",
        "n=int(input('Enter a number: '))\n",
        "a=1\n",
        "for i in range(1,n+1):\n",
        "  for k in range(1,i):\n",
        "    print(' ',end=' ')\n",
        "  for j in range(1,n+1-i):\n",
        "    print(a,end=' ')\n",
        "    a+=1\n",
        "  print()"
      ],
      "metadata": {
        "colab": {
          "base_uri": "https://localhost:8080/"
        },
        "id": "KWcXKfRRLXkd",
        "outputId": "7c9ffb72-f129-409b-b3b8-31f2755f65ef"
      },
      "execution_count": null,
      "outputs": [
        {
          "output_type": "stream",
          "name": "stdout",
          "text": [
            "Enter a number: 4\n",
            "1 2 3 \n",
            "  4 5 \n",
            "    6 \n",
            "      \n"
          ]
        }
      ]
    },
    {
      "cell_type": "code",
      "source": [
        "#reciprocal mirror alphabet right angle triangle\n",
        "n=int(input('Enter a number: '))\n",
        "for i in range(1,n+1):\n",
        "  for k in range(1,i):\n",
        "    print(' ',end=' ')\n",
        "  for j in range(65,65+(n+1-i)):\n",
        "    print(chr(j),end=' ')\n",
        "  print()"
      ],
      "metadata": {
        "colab": {
          "base_uri": "https://localhost:8080/"
        },
        "id": "aVF-sBJfLqfq",
        "outputId": "1a08cec7-18da-46bc-b315-cfb4d6b77ac7"
      },
      "execution_count": null,
      "outputs": [
        {
          "output_type": "stream",
          "name": "stdout",
          "text": [
            "Enter a number: 6\n",
            "A B C D E F \n",
            "  A B C D E \n",
            "    A B C D \n",
            "      A B C \n",
            "        A B \n",
            "          A \n"
          ]
        }
      ]
    },
    {
      "cell_type": "code",
      "source": [
        "#reciprocal mirror alphabet right angle triangle\n",
        "n=int(input('Enter a number: '))\n",
        "a=65\n",
        "for i in range(1,n+1):\n",
        "  for k in range(1,i):\n",
        "    print(' ',end=' ')\n",
        "  for j in range(65,65+(n+1-i)):\n",
        "    print(chr(a),end=' ')\n",
        "    a+=1\n",
        "  print()"
      ],
      "metadata": {
        "colab": {
          "base_uri": "https://localhost:8080/"
        },
        "id": "Vf2BmbIrL59x",
        "outputId": "69f59748-6a07-44f7-d0a5-a52aaf840803"
      },
      "execution_count": null,
      "outputs": [
        {
          "output_type": "stream",
          "name": "stdout",
          "text": [
            "Enter a number: 6\n",
            "A B C D E F \n",
            "  G H I J K \n",
            "    L M N O \n",
            "      P Q R \n",
            "        S T \n",
            "          U \n"
          ]
        }
      ]
    },
    {
      "cell_type": "code",
      "source": [
        "#right angle trinlge\n",
        "n=int(input('Enter a number: '))\n",
        "for i in range(1,n+1):\n",
        "  for j in range(1,2*i):\n",
        "    print('*',end=' ')\n",
        "  print()"
      ],
      "metadata": {
        "colab": {
          "base_uri": "https://localhost:8080/"
        },
        "id": "Qy55TqNDMH7i",
        "outputId": "428da606-3535-437d-9dd7-3b8fde691c6e"
      },
      "execution_count": null,
      "outputs": [
        {
          "output_type": "stream",
          "name": "stdout",
          "text": [
            "Enter a number: 6\n",
            "* \n",
            "* * * \n",
            "* * * * * \n",
            "* * * * * * * \n",
            "* * * * * * * * * \n",
            "* * * * * * * * * * * \n"
          ]
        }
      ]
    },
    {
      "cell_type": "code",
      "source": [
        "#pyramid\n",
        "n=int(input('Enter a number: '))\n",
        "for i in range(1,n+1):\n",
        "  for k in range(1,n+1-i):\n",
        "    print(' ',end=' ')\n",
        "  for j in range(1,2*i):\n",
        "    print('*',end=' ')\n",
        "  print()"
      ],
      "metadata": {
        "colab": {
          "base_uri": "https://localhost:8080/"
        },
        "id": "lCgGBQUyToIx",
        "outputId": "350b7682-f7f0-4811-8df2-ed21fea84006"
      },
      "execution_count": null,
      "outputs": [
        {
          "output_type": "stream",
          "name": "stdout",
          "text": [
            "Enter a number: 6\n",
            "          * \n",
            "        * * * \n",
            "      * * * * * \n",
            "    * * * * * * * \n",
            "  * * * * * * * * * \n",
            "* * * * * * * * * * * \n"
          ]
        }
      ]
    },
    {
      "cell_type": "code",
      "source": [
        "#reverse pyramid\n",
        "n=int(input('Enter a number: '))\n",
        "for i in range(1,n+1):\n",
        "  for k in range(1,i):\n",
        "    print(' ',end=' ')\n",
        "  for j in range(1,2*(n-i)+2):\n",
        "    print('*',end=' ')\n",
        "  print()"
      ],
      "metadata": {
        "colab": {
          "base_uri": "https://localhost:8080/"
        },
        "id": "GsLta-JDirDm",
        "outputId": "3fe83ad3-a3a2-410c-cd6b-51e16e456a7f"
      },
      "execution_count": null,
      "outputs": [
        {
          "output_type": "stream",
          "name": "stdout",
          "text": [
            "Enter a number: 6\n",
            "* * * * * * * * * * * \n",
            "  * * * * * * * * * \n",
            "    * * * * * * * \n",
            "      * * * * * \n",
            "        * * * \n",
            "          * \n"
          ]
        }
      ]
    },
    {
      "cell_type": "code",
      "source": [
        "#numeric pyramid\n",
        "n=int(input('Enter a number: '))\n",
        "for i in range(1,n+1):\n",
        "  for k in range(1,n+1-i):\n",
        "    print(' ',end=' ')\n",
        "  for j in range(1,2*i):\n",
        "    print(j,end=' ')\n",
        "  print()"
      ],
      "metadata": {
        "colab": {
          "base_uri": "https://localhost:8080/"
        },
        "id": "3EgBDiSwUQqP",
        "outputId": "149c333f-2729-4512-d7f4-6eb49563b168"
      },
      "execution_count": null,
      "outputs": [
        {
          "output_type": "stream",
          "name": "stdout",
          "text": [
            "Enter a number: 5\n",
            "        1 \n",
            "      1 2 3 \n",
            "    1 2 3 4 5 \n",
            "  1 2 3 4 5 6 7 \n",
            "1 2 3 4 5 6 7 8 9 \n"
          ]
        }
      ]
    },
    {
      "cell_type": "code",
      "source": [
        "#numeric pyramid\n",
        "n=int(input('Enter a number: '))\n",
        "a=1\n",
        "for i in range(1,n+1):\n",
        "  for k in range(1,n+1-i):\n",
        "    print(' ',end=' ')\n",
        "  for j in range(1,2*i):\n",
        "    print(a,end=' ')\n",
        "    a+=1\n",
        "  print()"
      ],
      "metadata": {
        "colab": {
          "base_uri": "https://localhost:8080/"
        },
        "id": "3QNv3JoiUesa",
        "outputId": "605d9025-2ecf-4f03-ec3c-769b19767a5e"
      },
      "execution_count": null,
      "outputs": [
        {
          "output_type": "stream",
          "name": "stdout",
          "text": [
            "Enter a number: 3\n",
            "    1 \n",
            "  2 3 4 \n",
            "5 6 7 8 9 \n"
          ]
        }
      ]
    },
    {
      "cell_type": "code",
      "source": [
        "#alphabet pyramid\n",
        "n=int(input('Enter a number: '))\n",
        "for i in range(1,n+1):\n",
        "  for k in range(1,n+1-i):\n",
        "    print(' ',end=' ')\n",
        "  for j in range(65,65+(2*i-1)):\n",
        "    print(chr(j),end=' ')\n",
        "  print()"
      ],
      "metadata": {
        "colab": {
          "base_uri": "https://localhost:8080/"
        },
        "id": "bS5yKIRIUyVb",
        "outputId": "9cbbee7b-1e19-43c4-c0e5-1af2667804a5"
      },
      "execution_count": null,
      "outputs": [
        {
          "output_type": "stream",
          "name": "stdout",
          "text": [
            "Enter a number: 6\n",
            "          A \n",
            "        A B C \n",
            "      A B C D E \n",
            "    A B C D E F G \n",
            "  A B C D E F G H I \n",
            "A B C D E F G H I J K \n"
          ]
        }
      ]
    },
    {
      "cell_type": "code",
      "source": [
        "#alphabet pyramid\n",
        "n=int(input('Enter a number: '))\n",
        "a=65\n",
        "for i in range(1,n+1):\n",
        "  for k in range(1,n+1-i):\n",
        "    print(' ',end=' ')\n",
        "  for j in range(65,65+(2*i-1)):\n",
        "    print(chr(a),end=' ')\n",
        "    a+=1\n",
        "  print()"
      ],
      "metadata": {
        "colab": {
          "base_uri": "https://localhost:8080/"
        },
        "id": "sFkSO109Vb6D",
        "outputId": "a5368f56-7af2-4716-966f-3ce90810441d"
      },
      "execution_count": null,
      "outputs": [
        {
          "output_type": "stream",
          "name": "stdout",
          "text": [
            "Enter a number: 5\n",
            "        A \n",
            "      B C D \n",
            "    E F G H I \n",
            "  J K L M N O P \n",
            "Q R S T U V W X Y \n"
          ]
        }
      ]
    },
    {
      "cell_type": "code",
      "source": [
        "#numeric pyramid\n",
        "n=int(input('Enter a number: '))\n",
        "for i in range(1,n+1):\n",
        "  for s in range(1,n+1-i):\n",
        "    print(' ',end=' ')\n",
        "  for j in range(1,i):\n",
        "    print(j,end=' ')\n",
        "  a=i-2\n",
        "  for k in range(1,i-1):\n",
        "    print (a,end=' ')\n",
        "    a-=1\n",
        "  print()"
      ],
      "metadata": {
        "colab": {
          "base_uri": "https://localhost:8080/"
        },
        "id": "pq_hRk0UVsUT",
        "outputId": "41a8de23-63b3-4f00-ce4d-602f11780121"
      },
      "execution_count": null,
      "outputs": [
        {
          "output_type": "stream",
          "name": "stdout",
          "text": [
            "Enter a number: 6\n",
            "          \n",
            "        1 \n",
            "      1 2 1 \n",
            "    1 2 3 2 1 \n",
            "  1 2 3 4 3 2 1 \n",
            "1 2 3 4 5 4 3 2 1 \n"
          ]
        }
      ]
    },
    {
      "cell_type": "code",
      "source": [
        "#numeric pyramid\n",
        "n=int(input('Enter a number: '))\n",
        "for i in range(1,n+1):\n",
        "  for s in range(1,n+1-i):\n",
        "    print(' ',end=' ')\n",
        "  for j in range(65,65+i):\n",
        "    print(chr(j),end=' ')\n",
        "  a=65+i-2\n",
        "  for k in range(64,65+i-2):\n",
        "    print(chr(a),end=' ')\n",
        "    a-=1\n",
        "  print()"
      ],
      "metadata": {
        "colab": {
          "base_uri": "https://localhost:8080/"
        },
        "id": "AGXrkU_mYHLx",
        "outputId": "7a5c1242-4b74-44c3-a071-2b7cc7ac520a"
      },
      "execution_count": null,
      "outputs": [
        {
          "output_type": "stream",
          "name": "stdout",
          "text": [
            "Enter a number: 6\n",
            "          A \n",
            "        A B A \n",
            "      A B C B A \n",
            "    A B C D C B A \n",
            "  A B C D E D C B A \n",
            "A B C D E F E D C B A \n"
          ]
        }
      ]
    },
    {
      "cell_type": "code",
      "source": [
        "#star daimond\n",
        "n = int(input('Enter a number: '))\n",
        "nsp = n // 2\n",
        "nst = 1\n",
        "for i in range(1, n+1):\n",
        "    # spaces\n",
        "    for s in range(1, nsp+1):\n",
        "        print(' ', end=' ')\n",
        "    # stars\n",
        "    for j in range(1, nst+1):\n",
        "        print('*', end=' ')\n",
        "    # adjust for next row\n",
        "    m = (n // 2) + 1\n",
        "    if i < m:\n",
        "        nsp -= 1\n",
        "        nst += 2\n",
        "    else:\n",
        "        nsp += 1\n",
        "        nst -= 2\n",
        "    print()"
      ],
      "metadata": {
        "colab": {
          "base_uri": "https://localhost:8080/"
        },
        "id": "7TbErYozellb",
        "outputId": "c5fe3d14-aa44-4be0-9fed-5eda5d6d9382"
      },
      "execution_count": null,
      "outputs": [
        {
          "output_type": "stream",
          "name": "stdout",
          "text": [
            "Enter a number: 7\n",
            "      * \n",
            "    * * * \n",
            "  * * * * * \n",
            "* * * * * * * \n",
            "  * * * * * \n",
            "    * * * \n",
            "      * \n"
          ]
        }
      ]
    },
    {
      "cell_type": "code",
      "source": [
        "#stool pattern\n",
        "n = int(input('Enter a number: '))\n",
        "for i in range(2*n+1):\n",
        "    print('*', end=' ')\n",
        "print()\n",
        "nsp = 1\n",
        "nst = n\n",
        "for i in range(1,n+1):\n",
        "    for j in range(1,nst+1):\n",
        "        print('*', end=' ')\n",
        "    for k in range(1,nsp+1):\n",
        "        print(' ', end=' ')\n",
        "    for j in range(1,nst+1):\n",
        "        print('*', end=' ')\n",
        "    print()\n",
        "    nst -= 1\n",
        "    nsp += 2"
      ],
      "metadata": {
        "colab": {
          "base_uri": "https://localhost:8080/"
        },
        "id": "ULlD4WFtoKJD",
        "outputId": "19e8996b-1457-49fc-f3d3-d74eab82764b"
      },
      "execution_count": null,
      "outputs": [
        {
          "output_type": "stream",
          "name": "stdout",
          "text": [
            "Enter a number: 6\n",
            "* * * * * * * * * * * * * \n",
            "* * * * * *   * * * * * * \n",
            "* * * * *       * * * * * \n",
            "* * * *           * * * * \n",
            "* * *               * * * \n",
            "* *                   * * \n",
            "*                       * \n"
          ]
        }
      ]
    },
    {
      "cell_type": "code",
      "source": [
        "#stool pattern\n",
        "n = int(input('Enter a number: '))\n",
        "for i in range(1,2*n+2):\n",
        "    print(i, end=' ')\n",
        "print()\n",
        "nsp = 1\n",
        "nst = n\n",
        "for i in range(1,n+1):\n",
        "    for j in range(1,nst+1):\n",
        "        print(j, end=' ')\n",
        "    for k in range(1,nsp+1):\n",
        "        print(' ', end=' ')\n",
        "    for j in range(1,nst+1):\n",
        "        print(j, end=' ')\n",
        "    print()\n",
        "    nst -= 1\n",
        "    nsp += 2"
      ],
      "metadata": {
        "colab": {
          "base_uri": "https://localhost:8080/"
        },
        "id": "SNvgEixVvMrs",
        "outputId": "4bb43eb3-9370-4e4d-a185-4750f08d8af8"
      },
      "execution_count": null,
      "outputs": [
        {
          "output_type": "stream",
          "name": "stdout",
          "text": [
            "Enter a number: 4\n",
            "1 2 3 4 5 6 7 8 9 \n",
            "1 2 3 4   1 2 3 4 \n",
            "1 2 3       1 2 3 \n",
            "1 2           1 2 \n",
            "1               1 \n"
          ]
        }
      ]
    },
    {
      "cell_type": "code",
      "source": [
        "#stool pattern\n",
        "n = int(input('Enter a number: '))\n",
        "for i in range(1,2*n+2):\n",
        "    print(i, end=' ')\n",
        "print()\n",
        "nsp = 1\n",
        "nst = n\n",
        "a=1\n",
        "for i in range(1,n+1):\n",
        "    for j in range(1,nst+1):\n",
        "        print(a, end=' ')\n",
        "        a+=1\n",
        "    for k in range(1,nsp+1):\n",
        "        print(' ', end=' ')\n",
        "    for j in range(1,nst+1):\n",
        "        print(a, end=' ')\n",
        "        a+=1\n",
        "    print()\n",
        "    nst -= 1\n",
        "    nsp += 2"
      ],
      "metadata": {
        "colab": {
          "base_uri": "https://localhost:8080/"
        },
        "id": "oX-jb_5FwNRi",
        "outputId": "34d152d1-fbeb-450c-e973-285e5adc8019"
      },
      "execution_count": 160,
      "outputs": [
        {
          "output_type": "stream",
          "name": "stdout",
          "text": [
            "Enter a number: 2\n",
            "1 2 3 4 5 \n",
            "1 2   3 4 \n",
            "5       6 \n"
          ]
        }
      ]
    },
    {
      "cell_type": "code",
      "source": [
        "#stool pattern\n",
        "n = int(input('Enter a number: '))\n",
        "for i in range(1,2*n+2):\n",
        "    print(i, end=' ')\n",
        "print()\n",
        "nsp = 1\n",
        "nst = n\n",
        "for i in range(1,n+1):\n",
        "  a=1\n",
        "  for j in range(1,nst+1):\n",
        "      print(a, end=' ')\n",
        "      a+=1\n",
        "  for k in range(1,nsp+1):\n",
        "      print(' ', end=' ')\n",
        "      a+=1\n",
        "  for j in range(1,nst+1):\n",
        "      print(a, end=' ')\n",
        "      a+=1\n",
        "  print()\n",
        "  nst -= 1\n",
        "  nsp += 2"
      ],
      "metadata": {
        "id": "9Z5BrOQvw7Br",
        "colab": {
          "base_uri": "https://localhost:8080/"
        },
        "outputId": "cd7ee706-a5d1-44b4-a3d7-775542c2dcc5"
      },
      "execution_count": 157,
      "outputs": [
        {
          "output_type": "stream",
          "name": "stdout",
          "text": [
            "Enter a number: 4\n",
            "1 2 3 4 5 6 7 8 9 \n",
            "1 2 3 4   6 7 8 9 \n",
            "1 2 3       7 8 9 \n",
            "1 2           8 9 \n",
            "1               9 \n"
          ]
        }
      ]
    },
    {
      "cell_type": "code",
      "source": [
        "#stool pattern\n",
        "n = int(input('Enter a number: '))\n",
        "for i in range(n, 0, -1):\n",
        "  for j in range(1, i + 1):\n",
        "    print(j, end=' ')\n",
        "  spaces = 2 * (n - i) - 1\n",
        "  if spaces > 0:\n",
        "    for s in range(spaces):\n",
        "      print(' ', end=' ')\n",
        "  elif i == n:\n",
        "    for j in range(i - 1, 0, -1):\n",
        "      print(j, end=' ')\n",
        "    print()\n",
        "    continue\n",
        "  for j in range(i, 0, -1):\n",
        "    print(j, end=' ')\n",
        "  print()"
      ],
      "metadata": {
        "colab": {
          "base_uri": "https://localhost:8080/"
        },
        "id": "3ApGNXdfAOIu",
        "outputId": "46c3fed7-513c-4154-ff28-c1cd488e98e1"
      },
      "execution_count": 212,
      "outputs": [
        {
          "output_type": "stream",
          "name": "stdout",
          "text": [
            "Enter a number: 4\n",
            "1 2 3 4 3 2 1 \n",
            "1 2 3   3 2 1 \n",
            "1 2       2 1 \n",
            "1           1 \n"
          ]
        }
      ]
    },
    {
      "cell_type": "code",
      "source": [
        "#stool pattern\n",
        "n = int(input('Enter a number: '))\n",
        "for i in range(65,65+2*n+3):\n",
        "    print(chr(i), end=' ')\n",
        "print()\n",
        "nsp = 1\n",
        "nst = n\n",
        "for i in range(1,n+1):\n",
        "  a=65\n",
        "  for j in range(65,65+nst+1):\n",
        "      print(chr(a), end=' ')\n",
        "      a+=1\n",
        "  for k in range(1,nsp+1):\n",
        "      print(' ', end=' ')\n",
        "      a+=1\n",
        "  for j in range(65,65+nst+1):\n",
        "      print(chr(a), end=' ')\n",
        "      a+=1\n",
        "  print()\n",
        "  nst -= 1\n",
        "  nsp += 2"
      ],
      "metadata": {
        "colab": {
          "base_uri": "https://localhost:8080/"
        },
        "id": "7eCBvAKKzltZ",
        "outputId": "d8ee9b9c-0e62-4335-8f87-2bf50c260edf"
      },
      "execution_count": 168,
      "outputs": [
        {
          "output_type": "stream",
          "name": "stdout",
          "text": [
            "Enter a number: 3\n",
            "A B C D E F G H I \n",
            "A B C D   F G H I \n",
            "A B C       G H I \n",
            "A B           H I \n"
          ]
        }
      ]
    },
    {
      "cell_type": "code",
      "source": [
        "#zoom in problem\n",
        "n=int(input('Enter a number: '))\n",
        "for i in range(1, 2*(n+1)):\n",
        "  for j in range(1, 2*(n+1)):\n",
        "    a = i\n",
        "    if i > n+1:\n",
        "      a = 2*(n+1) - i\n",
        "    b = j\n",
        "    if j > n+1:\n",
        "      b = 2*(n+1) - j\n",
        "    if a < b:\n",
        "      min = a\n",
        "    else:\n",
        "      min = b\n",
        "    print(min, end=' ')\n",
        "  print()"
      ],
      "metadata": {
        "colab": {
          "base_uri": "https://localhost:8080/"
        },
        "id": "HIxfxZPa4BK6",
        "outputId": "c2a788e2-45c1-4574-a1d1-a67092e69ba4"
      },
      "execution_count": 189,
      "outputs": [
        {
          "output_type": "stream",
          "name": "stdout",
          "text": [
            "Enter a number: 3\n",
            "1 1 1 1 1 1 1 \n",
            "1 2 2 2 2 2 1 \n",
            "1 2 3 3 3 2 1 \n",
            "1 2 3 4 3 2 1 \n",
            "1 2 3 3 3 2 1 \n",
            "1 2 2 2 2 2 1 \n",
            "1 1 1 1 1 1 1 \n"
          ]
        }
      ]
    },
    {
      "cell_type": "code",
      "source": [
        "#zoom out problem\n",
        "n=int(input('Enter a number: '))\n",
        "for i in range(1, 2*(n+1)):\n",
        "  for j in range(1, 2*(n+1)):\n",
        "    a = i\n",
        "    if i > n+1:\n",
        "      a = 2*(n+1) - i\n",
        "    b = j\n",
        "    if j > n+1:\n",
        "      b = 2*(n+1) - j\n",
        "    if a < b:\n",
        "      min = a\n",
        "    else:\n",
        "      min = b\n",
        "    print(n+1-min, end=' ')\n",
        "  print()"
      ],
      "metadata": {
        "colab": {
          "base_uri": "https://localhost:8080/"
        },
        "id": "Wb2e3WdN-Psr",
        "outputId": "aa3592dc-f39b-4abf-bb55-029ca5f5d073"
      },
      "execution_count": 187,
      "outputs": [
        {
          "output_type": "stream",
          "name": "stdout",
          "text": [
            "Enter a number: 3\n",
            "3 3 3 3 3 3 3 \n",
            "3 2 2 2 2 2 3 \n",
            "3 2 1 1 1 2 3 \n",
            "3 2 1 0 1 2 3 \n",
            "3 2 1 1 1 2 3 \n",
            "3 2 2 2 2 2 3 \n",
            "3 3 3 3 3 3 3 \n"
          ]
        }
      ]
    }
  ]
}