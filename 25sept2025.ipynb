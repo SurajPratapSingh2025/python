{
  "nbformat": 4,
  "nbformat_minor": 0,
  "metadata": {
    "colab": {
      "provenance": [],
      "authorship_tag": "ABX9TyNHyBQfqemTH+v4WyOswRGr",
      "include_colab_link": true
    },
    "kernelspec": {
      "name": "python3",
      "display_name": "Python 3"
    },
    "language_info": {
      "name": "python"
    }
  },
  "cells": [
    {
      "cell_type": "markdown",
      "metadata": {
        "id": "view-in-github",
        "colab_type": "text"
      },
      "source": [
        "<a href=\"https://colab.research.google.com/github/SurajPratapSingh2025/python/blob/master/25sept2025.ipynb\" target=\"_parent\"><img src=\"https://colab.research.google.com/assets/colab-badge.svg\" alt=\"Open In Colab\"/></a>"
      ]
    },
    {
      "cell_type": "code",
      "execution_count": 1,
      "metadata": {
        "colab": {
          "base_uri": "https://localhost:8080/"
        },
        "id": "aN9vip6lzxo5",
        "outputId": "08949497-fa77-4d26-9b92-f209fb21b1b4"
      },
      "outputs": [
        {
          "output_type": "stream",
          "name": "stdout",
          "text": [
            "Hello World\n"
          ]
        }
      ],
      "source": [
        "print('Hello World')"
      ]
    },
    {
      "cell_type": "code",
      "source": [
        "a=10\n",
        "b=5\n",
        "c=a+b\n",
        "print(c)"
      ],
      "metadata": {
        "colab": {
          "base_uri": "https://localhost:8080/"
        },
        "id": "ILloI-alz8I_",
        "outputId": "f7b832cd-0f28-4cb3-e591-3f7cd284efb7"
      },
      "execution_count": 2,
      "outputs": [
        {
          "output_type": "stream",
          "name": "stdout",
          "text": [
            "15\n"
          ]
        }
      ]
    },
    {
      "cell_type": "code",
      "source": [
        "a=10\n",
        "b=20\n",
        "c=a+b\n",
        "print('Addition= %d'%c)"
      ],
      "metadata": {
        "colab": {
          "base_uri": "https://localhost:8080/"
        },
        "id": "HePomYYk0RUO",
        "outputId": "82bc2c17-392d-41b5-b54c-3dc006aec861"
      },
      "execution_count": 4,
      "outputs": [
        {
          "output_type": "stream",
          "name": "stdout",
          "text": [
            "Addition= 30\n"
          ]
        }
      ]
    },
    {
      "cell_type": "code",
      "source": [
        "s='suraj'\n",
        "print('Name: %s'%s)"
      ],
      "metadata": {
        "colab": {
          "base_uri": "https://localhost:8080/"
        },
        "id": "gj9qts2D0wgD",
        "outputId": "0ce43f75-0d4c-4a1d-9a61-f7e048bb53ee"
      },
      "execution_count": 13,
      "outputs": [
        {
          "output_type": "stream",
          "name": "stdout",
          "text": [
            "Name: suraj\n"
          ]
        }
      ]
    },
    {
      "cell_type": "code",
      "source": [
        "name='suraj'\n",
        "roll=28\n",
        "print('Name: %s'%name,'\\nRoll: %d'%roll)"
      ],
      "metadata": {
        "colab": {
          "base_uri": "https://localhost:8080/"
        },
        "id": "91BRr4ty2Dwt",
        "outputId": "16982e57-60fa-4684-98a6-7d5251f904f2"
      },
      "execution_count": 16,
      "outputs": [
        {
          "output_type": "stream",
          "name": "stdout",
          "text": [
            "Name: suraj \n",
            "Roll: 28\n"
          ]
        }
      ]
    },
    {
      "cell_type": "code",
      "source": [
        "print(type(name))"
      ],
      "metadata": {
        "colab": {
          "base_uri": "https://localhost:8080/"
        },
        "id": "f3ekdvPf3Huk",
        "outputId": "a9219e36-ba2f-4c9b-b3b9-f2b7b685e0f3"
      },
      "execution_count": 17,
      "outputs": [
        {
          "output_type": "stream",
          "name": "stdout",
          "text": [
            "<class 'str'>\n"
          ]
        }
      ]
    },
    {
      "cell_type": "code",
      "source": [
        "name='suraj'\n",
        "roll=28\n",
        "print('Name: %s \\nRoll: %d'%(name,roll))"
      ],
      "metadata": {
        "colab": {
          "base_uri": "https://localhost:8080/"
        },
        "id": "LbMPEPg23mtZ",
        "outputId": "7edff87a-bbc4-47a4-9760-a6ba72b939af"
      },
      "execution_count": 18,
      "outputs": [
        {
          "output_type": "stream",
          "name": "stdout",
          "text": [
            "Name: suraj \n",
            "Roll: 28\n"
          ]
        }
      ]
    },
    {
      "cell_type": "code",
      "source": [
        "name=input('Enter name: ')\n",
        "age=int(input('Enter age: '))\n",
        "address=input('Enter address: ')\n",
        "print('Name: %s \\nAge: %d \\nAddress: %s'%(name,age,address))"
      ],
      "metadata": {
        "colab": {
          "base_uri": "https://localhost:8080/"
        },
        "id": "C_CL4i4I6AWw",
        "outputId": "9c956738-7c11-4aec-d573-c38cc3d4606e"
      },
      "execution_count": 19,
      "outputs": [
        {
          "output_type": "stream",
          "name": "stdout",
          "text": [
            "Enter name: suraj\n",
            "Enter age: 25\n",
            "Enter address: patna\n",
            "Name: suraj \n",
            "Age: 25 \n",
            "Address: patna\n"
          ]
        }
      ]
    },
    {
      "cell_type": "code",
      "source": [
        "#w.a.p to take any 2 no. & perform all the bitwise operation over all the bitwise operation over take a no. & also bitwise not for second no. ?\n",
        "a=int(input('Enter first no.: '))\n",
        "b=int(input(\"Enter second no.: \"))\n",
        "z1=a&b\n",
        "z2=a|b\n",
        "z3=a^b\n",
        "z4=~b\n",
        "print('First no.: %d \\nSecond no.: %d'%(a,b))\n",
        "print('Result of bitwise and: ',z1)\n",
        "print('Result of bitwise or: ',z2)\n",
        "print('Result of bitwise xor: ',z3)\n",
        "print('Result of bitwise not on Second no.: ',z4)"
      ],
      "metadata": {
        "colab": {
          "base_uri": "https://localhost:8080/"
        },
        "id": "aMc0jUar9bFx",
        "outputId": "9188b349-ea1a-4f35-ed58-71bcc3ac3a33"
      },
      "execution_count": 21,
      "outputs": [
        {
          "output_type": "stream",
          "name": "stdout",
          "text": [
            "Enter first no.: 2\n",
            "Enter second no.: 3\n",
            "First no.: 2 \n",
            "Second no.: 3\n",
            "Result of bitwise and:  2\n",
            "Result of bitwise or:  3\n",
            "Result of bitwise xor:  1\n",
            "Result of bitwise not on Second no.:  -4\n"
          ]
        }
      ]
    },
    {
      "cell_type": "code",
      "source": [
        "#member operator [ 1)in 2)not in ]\n",
        "list1=['apple','grapes','mango','banana']\n",
        "x1='mango'\n",
        "y1=(x1 in list1)\n",
        "print(x1,' is in the list1: ',y1)\n",
        "\n",
        "x2='gauvava'\n",
        "y2=(x2 in list1)\n",
        "print(x2,' is in the list1: ',y2)"
      ],
      "metadata": {
        "colab": {
          "base_uri": "https://localhost:8080/"
        },
        "id": "jEHMpsZnBgp4",
        "outputId": "29b9bdca-b054-466e-f685-55975204f491"
      },
      "execution_count": 22,
      "outputs": [
        {
          "output_type": "stream",
          "name": "stdout",
          "text": [
            "mango  is in the list1:  True\n",
            "gauvava  is in the list1:  False\n"
          ]
        }
      ]
    },
    {
      "cell_type": "code",
      "source": [
        "#member operator [ 1)in 2)not in ]\n",
        "list1=['apple','grapes','mango','banana']\n",
        "x1='mango'\n",
        "y1=(x1 not in list1)\n",
        "print(x1,' is in the list1: ',y1)\n",
        "\n",
        "x2='gauvava'\n",
        "y2=(x2 not in list1)\n",
        "print(x2,' is in the list1: ',y2)"
      ],
      "metadata": {
        "colab": {
          "base_uri": "https://localhost:8080/"
        },
        "id": "U9yJV9arDKK5",
        "outputId": "02f6d83f-53bb-472a-a531-7a3e89584928"
      },
      "execution_count": 23,
      "outputs": [
        {
          "output_type": "stream",
          "name": "stdout",
          "text": [
            "mango  is in the list1:  False\n",
            "gauvava  is in the list1:  True\n"
          ]
        }
      ]
    },
    {
      "cell_type": "code",
      "source": [
        "#identity operator [ 1)is 2)is not]\n",
        "#x=int(input('Enter first no.: '))\n",
        "#y=int(input('Enter second no.: '))\n",
        "x=input('Enter first no.: ')\n",
        "y=input('Enter second no.: ')\n",
        "\n",
        "z=(x is y)\n",
        "print(x,',',y,' is identical equal: ',z)\n",
        "\n",
        "z1=(x is not y)\n",
        "print(x,',',y,' is identical equal: ',z1)"
      ],
      "metadata": {
        "colab": {
          "base_uri": "https://localhost:8080/"
        },
        "id": "fwGbySoGFGI5",
        "outputId": "b87d349d-3854-4c26-c72c-ec50e5685b0a"
      },
      "execution_count": 34,
      "outputs": [
        {
          "output_type": "stream",
          "name": "stdout",
          "text": [
            "Enter first no.: sps\n",
            "Enter second no.: sps\n",
            "sps , sps  is identical equal:  False\n",
            "sps , sps  is identical equal:  True\n"
          ]
        }
      ]
    },
    {
      "cell_type": "code",
      "source": [
        "#w.a.p to take a no. & print that no. if a no. is +ive otherwise change that no. is absolute no. ?\n",
        "a=int(input('Enter any no.: '))\n",
        "if a>0:\n",
        "  print('Your no. %d is already absolute'%a)\n",
        "else:\n",
        "  a=(-1)*a\n",
        "  print('Your no. was not absolute so transform in absolute form: %d'%a)"
      ],
      "metadata": {
        "colab": {
          "base_uri": "https://localhost:8080/"
        },
        "id": "llXQg8pfJSQV",
        "outputId": "11be0a3c-55e1-4bf1-e2a4-eb1abcad4489"
      },
      "execution_count": 38,
      "outputs": [
        {
          "output_type": "stream",
          "name": "stdout",
          "text": [
            "Enter any no.: -9\n",
            "Your no. was not absolute so transform in absolute form: 9\n"
          ]
        }
      ]
    }
  ]
}