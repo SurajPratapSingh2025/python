{
  "cells": [
    {
      "cell_type": "markdown",
      "metadata": {
        "id": "view-in-github",
        "colab_type": "text"
      },
      "source": [
        "<a href=\"https://colab.research.google.com/github/SurajPratapSingh2025/python/blob/master/28sept2025.ipynb\" target=\"_parent\"><img src=\"https://colab.research.google.com/assets/colab-badge.svg\" alt=\"Open In Colab\"/></a>"
      ]
    },
    {
      "cell_type": "code",
      "execution_count": null,
      "metadata": {
        "colab": {
          "background_save": true
        },
        "id": "wT3lO6IHuQ6x",
        "outputId": "3d642b03-d2f1-49b2-e74f-e5346594afd8"
      },
      "outputs": [
        {
          "name": "stdout",
          "output_type": "stream",
          "text": [
            "Factorial of 3 is 6\n"
          ]
        }
      ],
      "source": [
        "#find factorial\n",
        "n=int(input('Enter a number: '))\n",
        "fact=1\n",
        "for i in range(1,n+1):\n",
        "  fact=fact*i\n",
        "print('Factorial of %d is %d'%(n,fact))"
      ]
    },
    {
      "cell_type": "code",
      "execution_count": null,
      "metadata": {
        "id": "Y_jqJAeJZP1u"
      },
      "outputs": [],
      "source": [
        "#check strong or not\n",
        "#Strong Number: a +ive integer where sum of factorial of its individual digit is equal to orginal number\n",
        "n=int(input('Enter a number: '))\n",
        "n1=n\n",
        "sum=0\n",
        "while n!=0:\n",
        "  r=n%10\n",
        "  fact=1\n",
        "  for i in range(1,r+1):\n",
        "    fact=fact*i\n",
        "  sum=sum+fact\n",
        "  n=n//10\n",
        "if n1==sum:\n",
        "  print(n1,' is strong number')\n",
        "else:\n",
        "  print(n1,' is not strong number')"
      ]
    },
    {
      "cell_type": "code",
      "execution_count": null,
      "metadata": {
        "colab": {
          "base_uri": "https://localhost:8080/"
        },
        "id": "IPixAGZgZT_2",
        "outputId": "16ce153d-de4b-485b-e00c-1a3ad7be6018"
      },
      "outputs": [
        {
          "name": "stdout",
          "output_type": "stream",
          "text": [
            "Enter a number: 13\n",
            "13 is happy number\n"
          ]
        }
      ],
      "source": [
        "#check happy number or not\n",
        "#happy Number: A +ive integer when replaced by the sum of squares of its digits repeatedly, eventually reaches the number 1\n",
        "n = int(input('Enter a number: '))\n",
        "n1 = n\n",
        "h = 0\n",
        "while n != 1 and n != 4:   # 4 means number is not happy (cycle starts)\n",
        "    h = 0\n",
        "    while n != 0:\n",
        "        r = n % 10\n",
        "        h = h + r * r\n",
        "        n = n // 10\n",
        "    n = h\n",
        "if n == 1:\n",
        "    print(n1, 'is happy number')\n",
        "else:\n",
        "    print(n1, 'is not happy number')"
      ]
    },
    {
      "cell_type": "code",
      "execution_count": null,
      "metadata": {
        "colab": {
          "base_uri": "https://localhost:8080/"
        },
        "id": "0N5OMZbzAylN",
        "outputId": "aa8d5d27-31ad-4b86-88ed-bfab392fa7a7"
      },
      "outputs": [
        {
          "name": "stdout",
          "output_type": "stream",
          "text": [
            "Enter a number: 18\n",
            "18  is harshad number\n"
          ]
        }
      ],
      "source": [
        "#check harshad/niven number or not\n",
        "#harshad number is a number in which number is completely divided by sum of its digits\n",
        "n=int(input('Enter a number: '))\n",
        "n1=n\n",
        "sum=0\n",
        "while n>0:\n",
        "  r=n%10\n",
        "  sum=sum+r\n",
        "  n//=10\n",
        "if n1%sum==0:\n",
        "  print(n1,' is harshad number')\n",
        "else:\n",
        "  print(n1,' is not harshad number')"
      ]
    },
    {
      "cell_type": "code",
      "execution_count": null,
      "metadata": {
        "colab": {
          "base_uri": "https://localhost:8080/"
        },
        "id": "3Fo6M3WyBd6F",
        "outputId": "7b166668-3255-48d9-8403-61443ab33893"
      },
      "outputs": [
        {
          "name": "stdout",
          "output_type": "stream",
          "text": [
            "Enter a number: 1125\n",
            "1125  is not a spy number\n"
          ]
        }
      ],
      "source": [
        "#check spy number or not\n",
        "#spy number is number in which sum of digits is equal to product of digits\n",
        "n=int(input('Enter a number: '))\n",
        "n1=n\n",
        "s=0\n",
        "p=1\n",
        "while n>0:\n",
        "  r=n%10\n",
        "  s+=r\n",
        "  p*=r\n",
        "  n//=10\n",
        "if s==p:\n",
        "  print(n1,' is a spy number')\n",
        "else:\n",
        "  print(n1,' is not a spy number')"
      ]
    },
    {
      "cell_type": "code",
      "execution_count": null,
      "metadata": {
        "colab": {
          "base_uri": "https://localhost:8080/"
        },
        "id": "0CtXjpMIGM1m",
        "outputId": "8f913796-d2e5-492c-ae30-2ae61812652f"
      },
      "outputs": [
        {
          "name": "stdout",
          "output_type": "stream",
          "text": [
            "Enter a number: 9\n",
            "Boolean Value of 9 is  1 0 0 1 "
          ]
        }
      ],
      "source": [
        "#find boolean of a number\n",
        "n=int(input('Enter a number: '))\n",
        "n1=n\n",
        "str=[]\n",
        "print('Boolean Value of %d is '%n,end=' ')\n",
        "while n!=0:\n",
        "  str=n%2\n",
        "  n=n//2\n",
        "  print(str,end=' ')"
      ]
    },
    {
      "cell_type": "code",
      "execution_count": null,
      "metadata": {
        "colab": {
          "base_uri": "https://localhost:8080/"
        },
        "id": "oNGJVYQvD766",
        "outputId": "238ff26e-5d2e-4983-80a5-ede20909133a"
      },
      "outputs": [
        {
          "name": "stdout",
          "output_type": "stream",
          "text": [
            "Enter a number: 5\n",
            "5  is evil number\n"
          ]
        }
      ],
      "source": [
        "#check evil/odious(non-evil) number or not\n",
        "#evil number is a number in which binary representation of that number have two 1's\n",
        "n=int(input('Enter a number: '))\n",
        "n1=n\n",
        "str=[]\n",
        "cnt=0\n",
        "while n!=0:\n",
        "  str=n%2\n",
        "  n=n//2\n",
        "  if str==1:\n",
        "    cnt+=1\n",
        "if cnt==2:\n",
        "  print(n1,' is evil number')\n",
        "else:\n",
        "  print(n1,' is odious number')"
      ]
    },
    {
      "cell_type": "code",
      "execution_count": null,
      "metadata": {
        "colab": {
          "base_uri": "https://localhost:8080/"
        },
        "id": "Rv_nY_HiJ6px",
        "outputId": "fdce903a-fd7c-4c06-c678-ddcc0ed66d53"
      },
      "outputs": [
        {
          "name": "stdout",
          "output_type": "stream",
          "text": [
            "Enter a number: 154\n",
            "154  is not armstrong number\n"
          ]
        }
      ],
      "source": [
        "#check armstrong/narcissistic number or not\n",
        "#armstrong number is a number in which sum of each exponential(no. of digit) digits equals to that number\n",
        "n=int(input('Enter a number: '))\n",
        "n1=n\n",
        "cnt=0\n",
        "while n!=0:\n",
        "  r=n%10\n",
        "  n//=10\n",
        "  cnt=cnt+1\n",
        "n=n1\n",
        "sum=0\n",
        "while n!=0:\n",
        "  r=n%10\n",
        "  sum=sum+ r**cnt\n",
        "  n//=10\n",
        "if n1==sum:\n",
        "  print(n1,' is armstrong number')\n",
        "else:\n",
        "  print(n1,' is not armstrong number')"
      ]
    },
    {
      "cell_type": "code",
      "execution_count": null,
      "metadata": {
        "colab": {
          "base_uri": "https://localhost:8080/"
        },
        "id": "UCCooaOEShbz",
        "outputId": "379f7530-5e02-46db-de5f-338bffda63ee"
      },
      "outputs": [
        {
          "name": "stdout",
          "output_type": "stream",
          "text": [
            "Enter first number: 284\n",
            "Enter second number: 220\n",
            "284  and  220  are amicable number\n"
          ]
        }
      ],
      "source": [
        "#check amicable number or not\n",
        "#amicable number is a pair of numbers in which sum of factor of first number is equal to second number viceversa\n",
        "n1=int(input('Enter first number: '))\n",
        "n2=int(input('Enter second number: '))\n",
        "sum1=0\n",
        "for i in range(1,n1):\n",
        "  if n1%i==0:\n",
        "    sum1=sum1+i\n",
        "sum2=0\n",
        "for i in range(1,n2):\n",
        "  if n2%i==0:\n",
        "    sum2=sum2+i\n",
        "if n1==sum2 and n2==sum1:\n",
        "  print(n1,' and ',n2,' are amicable number')\n",
        "else:\n",
        "  print(n1,' and ',n2,' are not amicable number')"
      ]
    },
    {
      "cell_type": "code",
      "execution_count": null,
      "metadata": {
        "colab": {
          "base_uri": "https://localhost:8080/"
        },
        "id": "T1kr_TIOTVbB",
        "outputId": "ffccd8dc-4e82-4d8d-9657-37eb44cebd4c"
      },
      "outputs": [
        {
          "name": "stdout",
          "output_type": "stream",
          "text": [
            "Enter a number: 1252\n",
            "1252  is magic number\n"
          ]
        }
      ],
      "source": [
        "#check magic number or not\n",
        "#magic number: a number which gives 1 when its digits are recursively added\n",
        "n=int(input('Enter a number: '))\n",
        "n1=n\n",
        "sum=0\n",
        "while n>0 or sum>9:\n",
        "  if n==0:\n",
        "    n=sum\n",
        "    sum=0\n",
        "  r=n%10\n",
        "  sum=sum+r\n",
        "  n=n//10\n",
        "if sum==1:\n",
        "  print(n1,' is magic number')\n",
        "else:\n",
        "  print(n1,' is not magic number')"
      ]
    },
    {
      "cell_type": "code",
      "execution_count": 61,
      "metadata": {
        "colab": {
          "base_uri": "https://localhost:8080/"
        },
        "id": "M5MbhQSvhwy4",
        "outputId": "f0b669c8-b21d-4b2e-d474-6dd1e44e235a"
      },
      "outputs": [
        {
          "output_type": "stream",
          "name": "stdout",
          "text": [
            "Enter number of terms: 8\n",
            "0 1 1 2 3 5 8 13 "
          ]
        }
      ],
      "source": [
        "#Display fibonacci series up to term n\n",
        "#fibonacci series is a sequence of numbers where each number is the sum of the two proceding ones, starting with 0 and 1\n",
        "#eg: 0 1 1 2 3 5 8 13\n",
        "n1=0\n",
        "n2=1\n",
        "n=int(input('Enter number of terms: '))\n",
        "for i in range(1,n+1):\n",
        "  print(n1,end=' ')\n",
        "  n3=n1+n2\n",
        "  n1=n2\n",
        "  n2=n3"
      ]
    },
    {
      "cell_type": "code",
      "source": [
        "#check vampire number or not\n",
        "#vampire number is even digit number thats divided into 2 equal parts(by any digit combination) & multilication of these 2 part is equal to that number\n",
        "n = int(input(\"Enter a number: \"))\n",
        "n1 = n\n",
        "digits = []\n",
        "temp = n\n",
        "\n",
        "# extract digits into list\n",
        "while temp > 0:\n",
        "    digits.insert(0, temp % 10)   # putting digits in order\n",
        "    temp = temp // 10\n",
        "\n",
        "count = len(digits)\n",
        "\n",
        "if count % 2 != 0:   # must be even digit\n",
        "    print(n1, \"is not a vampire number\")\n",
        "else:\n",
        "    half = count // 2\n",
        "    is_vampire = False\n",
        "\n",
        "    # try all possible splits (simple way)\n",
        "    for i in range(1, 10**half):\n",
        "        for j in range(1, 10**half):\n",
        "            if i * j == n1:\n",
        "                # check if digits of (i,j) form same set as n\n",
        "                digs = []\n",
        "                t1, t2 = i, j\n",
        "                while t1 > 0:\n",
        "                    digs.append(t1 % 10)\n",
        "                    t1 //= 10\n",
        "                while t2 > 0:\n",
        "                    digs.append(t2 % 10)\n",
        "                    t2 //= 10\n",
        "                digs.sort()\n",
        "\n",
        "                original = digits[:]\n",
        "                original.sort()\n",
        "\n",
        "                if digs == original:\n",
        "                    is_vampire = True\n",
        "                    break\n",
        "        if is_vampire:\n",
        "            break\n",
        "\n",
        "    if is_vampire:\n",
        "        print(n1, \"is a vampire number\")\n",
        "    else:\n",
        "        print(n1, \"is not a vampire number\")"
      ],
      "metadata": {
        "colab": {
          "base_uri": "https://localhost:8080/"
        },
        "id": "iYU6YgxYqq5H",
        "outputId": "2b84953b-00f9-4acd-b10c-caa7efe7e121"
      },
      "execution_count": 62,
      "outputs": [
        {
          "output_type": "stream",
          "name": "stdout",
          "text": [
            "Enter a number: 1260\n",
            "1260 is a vampire number\n"
          ]
        }
      ]
    }
  ],
  "metadata": {
    "colab": {
      "provenance": [],
      "authorship_tag": "ABX9TyODpTRI3tt60NK0PErWAqQE",
      "include_colab_link": true
    },
    "kernelspec": {
      "display_name": "Python 3",
      "name": "python3"
    },
    "language_info": {
      "name": "python"
    }
  },
  "nbformat": 4,
  "nbformat_minor": 0
}